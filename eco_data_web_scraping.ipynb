{
 "cells": [
  {
   "cell_type": "markdown",
   "id": "e1fee7af-d4c0-447b-a830-578a92921335",
   "metadata": {},
   "source": [
    "# Economics data web scraping"
   ]
  },
  {
   "cell_type": "markdown",
   "id": "56572c56-da0a-4ccf-ba98-f54ce0a3c055",
   "metadata": {},
   "source": [
    "Notebook to automate the collecting process of various economics temporal series."
   ]
  },
  {
   "cell_type": "markdown",
   "id": "51a96b9b-d7c5-41e9-bd50-4ca11865279d",
   "metadata": {},
   "source": [
    "## Brazilian Data"
   ]
  },
  {
   "cell_type": "markdown",
   "id": "c2cc1711-afb5-4648-8b7e-38dfa0b71b45",
   "metadata": {},
   "source": [
    "### CDI"
   ]
  },
  {
   "cell_type": "code",
   "execution_count": 1,
   "id": "b446f790-df25-479d-9d4c-fa9b536e8b71",
   "metadata": {},
   "outputs": [],
   "source": [
    "url_cdi = 'http://www.b3.com.br/pt_br/market-data-e-indices/indices/indices-de-segmentos-e-setoriais/serie-historica-do-di.htm'"
   ]
  },
  {
   "cell_type": "markdown",
   "id": "10bbd695-4478-4035-8632-047bad05bef5",
   "metadata": {},
   "source": [
    "### IPCA"
   ]
  },
  {
   "cell_type": "code",
   "execution_count": 3,
   "id": "02426068-6fc8-4abf-989a-ae5deb0d613a",
   "metadata": {},
   "outputs": [],
   "source": [
    "import os\n",
    "from datetime import datetime\n",
    "from ftplib import FTP\n",
    "import zipfile\n",
    "import pandas as pd"
   ]
  },
  {
   "cell_type": "code",
   "execution_count": 4,
   "id": "5fdc67d5-0475-4550-ab88-8efe11693636",
   "metadata": {},
   "outputs": [],
   "source": [
    "# ipca scraper config\n",
    "# url: https://ftp.ibge.gov.br/Precos_Indices_de_Precos_ao_Consumidor/IPCA/Serie_Historica/ipca_SerieHist.zip\n",
    "url_ipca = 'ftp.ibge.gov.br'\n",
    "username_ipca = ''\n",
    "password_ipca = ''\n",
    "remote_path_ipca = '/Precos_Indices_de_Precos_ao_Consumidor/IPCA/Serie_Historica'\n",
    "remote_file_ipca = 'ipca_SerieHist.zip'\n",
    "local_path_ipca = ''"
   ]
  },
  {
   "cell_type": "code",
   "execution_count": 5,
   "id": "469c225a-36a5-40b7-a4b0-dab152b2361b",
   "metadata": {},
   "outputs": [],
   "source": [
    "#create a folder\n",
    "def create_folder_if_not_exists(folder_path):\n",
    "    try:\n",
    "        # Check if the folder exists\n",
    "        if not os.path.exists(folder_path):\n",
    "            # If not, create the folder\n",
    "            os.makedirs(folder_path)\n",
    "            print(f\"Folder '{folder_path}' created successfully.\")\n",
    "        else:\n",
    "            print(f\"Folder '{folder_path}' already exists.\")\n",
    "\n",
    "    except Exception as e:\n",
    "        print(f\"Error: {e}\")"
   ]
  },
  {
   "cell_type": "code",
   "execution_count": 6,
   "id": "971c0ffe-741a-44ea-9173-d6b95189f1fa",
   "metadata": {},
   "outputs": [],
   "source": [
    "def download_ftp_data(url, username, password, remote_path, remote_file, local_path):\n",
    "    try:\n",
    "        # Connect to the FTP server\n",
    "        ftp = FTP(url)\n",
    "        ftp.login(username, password)\n",
    "\n",
    "        # Change to the remote directory\n",
    "        ftp.cwd(remote_path)\n",
    "\n",
    "        # Open a local file for writing\n",
    "        with open(local_path+'/'+remote_file, 'wb') as local_file:\n",
    "            # Retrieve the file from the FTP server\n",
    "            ftp.retrbinary('RETR ' + remote_file, local_file.write)\n",
    "\n",
    "        print(f\"File downloaded successfully to {local_path}\")\n",
    "\n",
    "    except Exception as e:\n",
    "        print(f\"Error: {e}\")\n",
    "\n",
    "    finally:\n",
    "        # Close the FTP connection\n",
    "        if ftp:\n",
    "            ftp.quit()"
   ]
  },
  {
   "cell_type": "code",
   "execution_count": 7,
   "id": "2ec5a3c1-ea1b-4e13-b366-b286f4171ae3",
   "metadata": {},
   "outputs": [],
   "source": [
    "def unzip(file_path, file_name):\n",
    "    try:\n",
    "        with zipfile.ZipFile(file_path+'/'+file_name, 'r') as zip_ref:\n",
    "            zip_ref.extractall(file_path)\n",
    "        print(f\"File unziped successfully to {file_path}\")\n",
    "    except Exception as e:\n",
    "        print(f\"Error: {e}\")       "
   ]
  },
  {
   "cell_type": "code",
   "execution_count": 8,
   "id": "99e01897-779b-48f4-a68d-d31c96eee496",
   "metadata": {},
   "outputs": [
    {
     "name": "stdout",
     "output_type": "stream",
     "text": [
      "Folder 'raw_data' created successfully.\n",
      "Folder 'raw_data/ipca_raw_20231119_204603' created successfully.\n"
     ]
    }
   ],
   "source": [
    "#get the timestamp and create a folder to store the downloaded raw data\n",
    "timestamp = datetime.now().strftime(\"%Y%m%d_%H%M%S\")\n",
    "local_path_ipca = 'raw_data/'+'ipca_raw_'+timestamp\n",
    "create_folder_if_not_exists('raw_data')\n",
    "create_folder_if_not_exists(local_path_ipca)"
   ]
  },
  {
   "cell_type": "code",
   "execution_count": 9,
   "id": "0a480f18-18a8-442d-aac6-2a0668337c4f",
   "metadata": {},
   "outputs": [
    {
     "name": "stdout",
     "output_type": "stream",
     "text": [
      "File downloaded successfully to raw_data/ipca_raw_20231119_204603\n"
     ]
    }
   ],
   "source": [
    "#download the ipca raw data from IBGE FTP to local_path folder\n",
    "download_ftp_data(url_ipca, username_ipca, password_ipca, remote_path_ipca, remote_file_ipca,  local_path_ipca)"
   ]
  },
  {
   "cell_type": "code",
   "execution_count": 10,
   "id": "72a2bde1-a307-4a4b-86d0-4f8be78121c0",
   "metadata": {},
   "outputs": [
    {
     "name": "stdout",
     "output_type": "stream",
     "text": [
      "File unziped successfully to raw_data/ipca_raw_20231119_204603\n"
     ]
    }
   ],
   "source": [
    "#unzip file\n",
    "unzip(local_path_ipca, remote_file_ipca)"
   ]
  },
  {
   "cell_type": "code",
   "execution_count": 11,
   "id": "697c7555-224c-489c-bbf0-d8e4d51c3efe",
   "metadata": {},
   "outputs": [],
   "source": [
    "#load excel file\n",
    "files = os.listdir(local_path_ipca)\n",
    "\n",
    "# Find the Excel file (assuming there's only one)\n",
    "excel_file = next((file for file in files if file.endswith(('.xls', '.xlsx'))), None)\n",
    "\n",
    "if excel_file:\n",
    "    # If there's an Excel file, open it with pandas\n",
    "    excel_file_path = os.path.join(local_path_ipca, excel_file)\n",
    "    df = pd.read_excel(excel_file_path)"
   ]
  },
  {
   "cell_type": "code",
   "execution_count": 12,
   "id": "17ecf441-5ffd-4989-a33e-65865a78bf2e",
   "metadata": {},
   "outputs": [
    {
     "data": {
      "text/html": [
       "<div>\n",
       "<style scoped>\n",
       "    .dataframe tbody tr th:only-of-type {\n",
       "        vertical-align: middle;\n",
       "    }\n",
       "\n",
       "    .dataframe tbody tr th {\n",
       "        vertical-align: top;\n",
       "    }\n",
       "\n",
       "    .dataframe thead th {\n",
       "        text-align: right;\n",
       "    }\n",
       "</style>\n",
       "<table border=\"1\" class=\"dataframe\">\n",
       "  <thead>\n",
       "    <tr style=\"text-align: right;\">\n",
       "      <th></th>\n",
       "      <th>ref_year</th>\n",
       "      <th>ref_month</th>\n",
       "      <th>month</th>\n",
       "      <th>3 months</th>\n",
       "      <th>6 months</th>\n",
       "      <th>year</th>\n",
       "      <th>12 months</th>\n",
       "    </tr>\n",
       "  </thead>\n",
       "  <tbody>\n",
       "    <tr>\n",
       "      <th>7</th>\n",
       "      <td>1994</td>\n",
       "      <td>1</td>\n",
       "      <td>41.31</td>\n",
       "      <td>162.13</td>\n",
       "      <td>533.33</td>\n",
       "      <td>41.31</td>\n",
       "      <td>2693.84</td>\n",
       "    </tr>\n",
       "    <tr>\n",
       "      <th>8</th>\n",
       "      <td>1994</td>\n",
       "      <td>2</td>\n",
       "      <td>40.27</td>\n",
       "      <td>171.24</td>\n",
       "      <td>568.17</td>\n",
       "      <td>98.22</td>\n",
       "      <td>3035.71</td>\n",
       "    </tr>\n",
       "    <tr>\n",
       "      <th>9</th>\n",
       "      <td>1994</td>\n",
       "      <td>3</td>\n",
       "      <td>42.75</td>\n",
       "      <td>182.96</td>\n",
       "      <td>602.93</td>\n",
       "      <td>182.96</td>\n",
       "      <td>3417.39</td>\n",
       "    </tr>\n",
       "    <tr>\n",
       "      <th>10</th>\n",
       "      <td>1994</td>\n",
       "      <td>4</td>\n",
       "      <td>42.68</td>\n",
       "      <td>185.71</td>\n",
       "      <td>648.92</td>\n",
       "      <td>303.73</td>\n",
       "      <td>3828.49</td>\n",
       "    </tr>\n",
       "    <tr>\n",
       "      <th>11</th>\n",
       "      <td>1994</td>\n",
       "      <td>5</td>\n",
       "      <td>44.03</td>\n",
       "      <td>193.36</td>\n",
       "      <td>695.71</td>\n",
       "      <td>481.49</td>\n",
       "      <td>4331.19</td>\n",
       "    </tr>\n",
       "    <tr>\n",
       "      <th>...</th>\n",
       "      <td>...</td>\n",
       "      <td>...</td>\n",
       "      <td>...</td>\n",
       "      <td>...</td>\n",
       "      <td>...</td>\n",
       "      <td>...</td>\n",
       "      <td>...</td>\n",
       "    </tr>\n",
       "    <tr>\n",
       "      <th>429</th>\n",
       "      <td>2023</td>\n",
       "      <td>6</td>\n",
       "      <td>-0.08</td>\n",
       "      <td>0.76</td>\n",
       "      <td>2.87</td>\n",
       "      <td>2.87</td>\n",
       "      <td>3.16</td>\n",
       "    </tr>\n",
       "    <tr>\n",
       "      <th>430</th>\n",
       "      <td>2023</td>\n",
       "      <td>7</td>\n",
       "      <td>0.12</td>\n",
       "      <td>0.27</td>\n",
       "      <td>2.45</td>\n",
       "      <td>2.99</td>\n",
       "      <td>3.99</td>\n",
       "    </tr>\n",
       "    <tr>\n",
       "      <th>431</th>\n",
       "      <td>2023</td>\n",
       "      <td>8</td>\n",
       "      <td>0.23</td>\n",
       "      <td>0.27</td>\n",
       "      <td>1.83</td>\n",
       "      <td>3.23</td>\n",
       "      <td>4.61</td>\n",
       "    </tr>\n",
       "    <tr>\n",
       "      <th>432</th>\n",
       "      <td>2023</td>\n",
       "      <td>9</td>\n",
       "      <td>0.26</td>\n",
       "      <td>0.61</td>\n",
       "      <td>1.38</td>\n",
       "      <td>3.5</td>\n",
       "      <td>5.19</td>\n",
       "    </tr>\n",
       "    <tr>\n",
       "      <th>433</th>\n",
       "      <td>2023</td>\n",
       "      <td>10</td>\n",
       "      <td>0.24</td>\n",
       "      <td>0.73</td>\n",
       "      <td>1</td>\n",
       "      <td>3.75</td>\n",
       "      <td>4.82</td>\n",
       "    </tr>\n",
       "  </tbody>\n",
       "</table>\n",
       "<p>358 rows × 7 columns</p>\n",
       "</div>"
      ],
      "text/plain": [
       "    ref_year ref_month  month 3 months 6 months    year 12 months\n",
       "7       1994         1  41.31   162.13   533.33   41.31   2693.84\n",
       "8       1994         2  40.27   171.24   568.17   98.22   3035.71\n",
       "9       1994         3  42.75   182.96   602.93  182.96   3417.39\n",
       "10      1994         4  42.68   185.71   648.92  303.73   3828.49\n",
       "11      1994         5  44.03   193.36   695.71  481.49   4331.19\n",
       "..       ...       ...    ...      ...      ...     ...       ...\n",
       "429     2023         6  -0.08     0.76     2.87    2.87      3.16\n",
       "430     2023         7   0.12     0.27     2.45    2.99      3.99\n",
       "431     2023         8   0.23     0.27     1.83    3.23      4.61\n",
       "432     2023         9   0.26     0.61     1.38     3.5      5.19\n",
       "433     2023        10   0.24     0.73        1    3.75      4.82\n",
       "\n",
       "[358 rows x 7 columns]"
      ]
     },
     "execution_count": 12,
     "metadata": {},
     "output_type": "execute_result"
    }
   ],
   "source": [
    "#clean-up the data loaded\n",
    "df_ok = df.rename(columns={'Unnamed: 0': 'ref_year', 'Unnamed: 1': 'ref_month' , 'Unnamed: 3': 'month', 'Unnamed: 4': '3 months', 'Unnamed: 5': '6 months', 'Unnamed: 6': 'year', 'Unnamed: 7': '12 months'}).drop(columns='Unnamed: 2')\n",
    "df_ok = df_ok.replace({'JAN':1, 'FEV':2, 'MAR':3, 'ABR':4, 'MAI':5, 'JUN':6, 'JUL':7, 'AGO':8, 'SET':9, 'OUT':10, 'NOV':11, 'DEZ':12}).replace({' ':pd.NA})#.dropna(how='all')#.replace(['NO',3,6,'NO',12],[pd.NA,pd.NA,pd.NA,pd.NA,pd.NA])#.reset_index(drop = True)#.apply(pd.to_numeric, errors='coerce')#.fillna(axis='index', method='ffill')\n",
    "df_ok['ref_year'] = df_ok['ref_year'].fillna(axis='index', method='ffill')\n",
    "df_ok = df_ok.dropna(how='any')\n",
    "#pd.set_option('display.max_rows', None)\n",
    "df_ok"
   ]
  },
  {
   "cell_type": "code",
   "execution_count": 13,
   "id": "3bf7e30a-8df4-4c10-b192-4caf23f1aa2a",
   "metadata": {},
   "outputs": [],
   "source": [
    "df_ok.to_excel(local_path_ipca+'/'+\"ipca_hist_series.xlsx\")  "
   ]
  },
  {
   "cell_type": "code",
   "execution_count": 14,
   "id": "6943834d-9826-4586-9bf3-67884e5fdae1",
   "metadata": {},
   "outputs": [
    {
     "data": {
      "image/png": "[encoded data removed]",
      "text/plain": [
       "<Figure size 640x480 with 1 Axes>"
      ]
     },
     "metadata": {},
     "output_type": "display_data"
    }
   ],
   "source": [
    "plot = df_ok.plot(title=\"DataFrame Plot\")"
   ]
  },
  {
   "cell_type": "markdown",
   "id": "32efb38d-9545-45ee-8d12-c8c46e32ecb0",
   "metadata": {},
   "source": [
    "### IGP-M"
   ]
  },
  {
   "cell_type": "code",
   "execution_count": 15,
   "id": "75bc8169-befa-430d-bab4-aabbc65130ee",
   "metadata": {},
   "outputs": [],
   "source": [
    "url_igpm = 'https://portal.fgv.br/noticias/igpm-resultados-2022'"
   ]
  },
  {
   "cell_type": "markdown",
   "id": "7ed05819-23e0-4395-a66f-729eb92d48f6",
   "metadata": {},
   "source": [
    "## Dutch Data"
   ]
  },
  {
   "cell_type": "markdown",
   "id": "a2bc3361-dd55-48af-b706-48d716f95677",
   "metadata": {},
   "source": [
    "### CPI"
   ]
  },
  {
   "cell_type": "code",
   "execution_count": 16,
   "id": "3dbe3971-41c4-4704-9560-c13b4dedce36",
   "metadata": {},
   "outputs": [],
   "source": [
    "url_cpi = 'https://www.cbs.nl/en-gb/figures/detail/70936eng'"
   ]
  }
 ],
 "metadata": {
  "kernelspec": {
   "display_name": "Python 3 (ipykernel)",
   "language": "python",
   "name": "python3"
  },
  "language_info": {
   "codemirror_mode": {
    "name": "ipython",
    "version": 3
   },
   "file_extension": ".py",
   "mimetype": "text/x-python",
   "name": "python",
   "nbconvert_exporter": "python",
   "pygments_lexer": "ipython3",
   "version": "3.9.13"
  }
 },
 "nbformat": 4,
 "nbformat_minor": 5
}
